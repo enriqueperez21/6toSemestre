{
 "cells": [
  {
   "cell_type": "code",
   "execution_count": 2,
   "id": "29e48a9e",
   "metadata": {},
   "outputs": [],
   "source": [
    "import mxnet as mx\n",
    "from mxnet import nd\n",
    "import numpy as np\n",
    "\n",
    "class SML:\n",
    "    def __init__(self):\n",
    "        pass\n",
    "\n",
    "    @staticmethod\n",
    "    def add_to_class(cls, method_name, method_func):\n",
    "        setattr(cls, method_name, method_func)\n",
    "\n",
    "    @staticmethod\n",
    "    def dataset_minmax(dataset):\n",
    "        \"\"\"\n",
    "        Devuelve una matriz 2D donde la primera columna es el mínimo por columna\n",
    "        y la segunda columna es el máximo por columna del dataset dado.\n",
    "        \"\"\"\n",
    "        return nd.stack(nd.min(dataset, axis=0), nd.max(dataset, axis=0), axis=1)"
   ]
  },
  {
   "cell_type": "code",
   "execution_count": 3,
   "id": "c6749ff9",
   "metadata": {},
   "outputs": [
    {
     "name": "stdout",
     "output_type": "stream",
     "text": [
      "Input:\n",
      " [[ 1.  2.]\n",
      " [ 3.  4.]\n",
      " [ 0. 10.]]\n",
      "Min-Max por columna:\n",
      " [[ 0.  3.]\n",
      " [ 2. 10.]]\n"
     ]
    }
   ],
   "source": [
    "data = nd.array([[1, 2], [3, 4], [0, 10]])\n",
    "print(\"Input:\\n\", data.asnumpy())\n",
    "\n",
    "result = SML.dataset_minmax(data)\n",
    "print(\"Min-Max por columna:\\n\", result.asnumpy())"
   ]
  }
 ],
 "metadata": {
  "kernelspec": {
   "display_name": "mxnet-env",
   "language": "python",
   "name": "python3"
  },
  "language_info": {
   "codemirror_mode": {
    "name": "ipython",
    "version": 3
   },
   "file_extension": ".py",
   "mimetype": "text/x-python",
   "name": "python",
   "nbconvert_exporter": "python",
   "pygments_lexer": "ipython3",
   "version": "3.9.13"
  }
 },
 "nbformat": 4,
 "nbformat_minor": 5
}
