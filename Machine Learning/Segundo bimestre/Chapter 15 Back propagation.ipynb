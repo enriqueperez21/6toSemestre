{
 "cells": [
  {
   "cell_type": "markdown",
   "id": "0fb14264",
   "metadata": {},
   "source": [
    "# Chapter 15 - Backpropagation\n",
    "\n",
    "The backpropagation algorithm is the classical feedforward artificial neural network. It is the technique still used to train large deep learning networks. In this tutorial, you will discover how to implement the backpropagation algorithm from scratch with Perl. After completing this tutorial, you will know:\n",
    "\n",
    "- How to forward-propagate an input to calculate an output.\n",
    "- How to backpropagate error and train a network.\n",
    "- How to apply the backpropagation algorithm to a real-world predictive modeling problem.\n",
    "\n",
    "Let’s get started.\n",
    "\n",
    "## 15.1 Description\n",
    "\n",
    "This section provides a brief introduction to the Backpropagation Algorithm and the Wheat Seeds dataset that we will be using in this tutorial.\n",
    "\n",
    "### 15.1.1 Backpropagation Algorithm\n",
    "\n",
    "The Backpropagation algorithm is a supervised learning method for multilayer feedforward networks from the field of Artificial Neural Networks. Feedforward neural networks are inspired by the information processing of one or more neural cells, called a neuron. A neuron accepts input signals via its dendrites, which pass the electrical signal down to the cell body. The axon carries the signal out to synapses, which are the connections of a cell’s axon to other cell’s dendrites.\n",
    "\n",
    "The principle of the backpropagation approach is to model a given function by modifying internal weightings of input signals to produce an expected output signal. The system is trained using a supervised learning method where the error between the system’s output and a known expected output is presented to the system and used to modify its internal state.\n",
    "\n",
    "Technically, the backpropagation algorithm is a method for training the weights in a multilayer feedforward neural network. As such, it requires a network structure to be defined of one or more layers where one layer is fully connected to the next layer. A standard network structure is one input layer, one hidden layer, and one output layer. Backpropagation can be used for both classification and regression problems, but we will focus on classification in this tutorial.\n",
    "\n",
    "In classification problems, best results are achieved when the network has one neuron in the output layer for each class value. For example, a 2-class or binary classification problem with the class values of A and B. These expected outputs would have to be transformed into binary vectors with one column for each class value. Such as [1, 0] and [0, 1] for A and B respectively. This is called a one hot encoding.\n",
    "\n",
    "### 15.1.2 Wheat Seeds Dataset\n",
    "\n",
    "In this tutorial we will use the Wheat Seeds Dataset. This dataset involves the prediction of the species of wheat seeds. The baseline performance on the problem is approximately 28%. You can learn more about it in Appendix A, Section A.10. Download the dataset and save it into your current working directory with the filename seeds dataset.csv. The dataset is in tab-separated format, so you must convert it to CSV using a text editor or a spreadsheet program.\n",
    "\n",
    "## 15.2 Tutorial\n",
    "\n",
    "This tutorial is broken down into 6 parts:\n",
    "\n",
    "1. Initialize Network.\n",
    "2. Forward-Propagate.\n",
    "3. Backpropagate Error.\n",
    "4. Train Network.\n",
    "5. Predict.\n",
    "6. Wheat Seeds Case Study.\n",
    "\n",
    "These steps will provide the foundation that you need to implement the backpropagation algorithm from scratch and apply it to your own predictive modeling problems.\n",
    "\n",
    "### 15.2.1 Initialize Network\n",
    "\n",
    "Let’s start with something easy: the creation of a new network ready for training. Each neuron has a set of weights that need to be maintained. One weight for each input connection and an additional weight for the bias. We will need to store additional properties for a neuron during training, therefore we will use a dictionary to represent each neuron and store properties by names such as weights for the weights.\n",
    "\n",
    "A network is organized into layers. The input layer is really just a row from our training dataset. The first real layer is the hidden layer. This is followed by the output layer that has one neuron for each class value. We will organize layers as arrays of dictionaries and treat the whole network as an array of layers. It is good practice to initialize the network weights to small random numbers. In this case, will we use random numbers in the range of 0 to 1. Below is a function named initialize_network() that creates a new neural network ready for training. It accepts three parameters: the number of inputs n_inputs, the number of neurons to have in the hidden layer n_hidden and the number of outputs n_outputs. You can see that for the hidden layer we create n_hidden neurons and each neuron in the hidden layer has n_inputs + 1 weights, one for each input column in a dataset and an additional one for the bias.\n",
    "\n",
    "You can also see that the output layer that connects to the hidden layer has n_output neurons, each with n_hidden + 1 weights. This means that each neuron in the output layer connects to (has a weight for) each neuron in the hidden layer.\n"
   ]
  },
  {
   "cell_type": "code",
   "execution_count": 1,
   "id": "75790dea",
   "metadata": {},
   "outputs": [],
   "source": [
    "import mxnet as mx\n",
    "from sml import SML\n",
    "import matplotlib.pyplot as plt\n",
    "\n",
    "sml = SML()"
   ]
  },
  {
   "cell_type": "code",
   "execution_count": 25,
   "id": "cbb9d423",
   "metadata": {},
   "outputs": [],
   "source": [
    "def initialize_network(n_inputs, n_hidden, n_outputs):\n",
    "    network = []\n",
    "\n",
    "    hidden_layer = []\n",
    "    for _ in range(n_hidden):\n",
    "        weights = mx.nd.random.uniform(shape=(n_inputs + 1,))\n",
    "        neuron = {'weights': weights}\n",
    "        hidden_layer.append(neuron)\n",
    "    network.append(hidden_layer)\n",
    "\n",
    "    output_layer = []\n",
    "    for _ in range(n_outputs):\n",
    "        weights = mx.nd.random.uniform(shape=(n_hidden + 1,))\n",
    "        neuron = {'weights': weights}\n",
    "        output_layer.append(neuron)\n",
    "    network.append(output_layer)\n",
    "\n",
    "    \"\"\" # Capa oculta: n_hidden neuronas, cada una con n_inputs + 1 pesos\n",
    "    hidden_weights = mx.nd.random.uniform(shape=(n_hidden, n_inputs + 1))\n",
    "\n",
    "    # Capa de salida: n_outputs neuronas, cada una con n_hidden + 1 pesos\n",
    "    output_weights = mx.nd.random.uniform(shape=(n_outputs, n_hidden + 1)) \"\"\"\n",
    "\n",
    "    #return [hidden_weights, output_weights]\n",
    "    return network\n",
    "\n",
    "sml.add_to_class(sml, 'initialize_network', initialize_network)"
   ]
  },
  {
   "cell_type": "code",
   "execution_count": 27,
   "id": "c7cea8ea",
   "metadata": {},
   "outputs": [
    {
     "name": "stdout",
     "output_type": "stream",
     "text": [
      "\n",
      "Hidden layer:\n",
      "Neuron[0] weights & bias: [0.7181762456893921, 0.03998935595154762, 0.7288185358047485]\n",
      "\n",
      "Output layer:\n",
      "Neuron[0] weights & bias: [0.24172033369541168, 0.8149715662002563]\n",
      "Neuron[1] weights & bias: [0.7259947657585144, 0.9137216806411743]\n"
     ]
    }
   ],
   "source": [
    "mx.random.seed(10)\n",
    "\n",
    "network = initialize_network(n_inputs=2, n_hidden=1, n_outputs=2)\n",
    "\n",
    "layer_names = ['Hidden', 'Output']\n",
    "\n",
    "\"\"\" for name, weights_matrix in zip(layer_names, network):\n",
    "    print(f\"\\n{name} layer:\")\n",
    "    for i, weights in enumerate(weights_matrix):\n",
    "        print(f\"Neuron[{i}] weights & bias: {weights.asnumpy().tolist()}\") \"\"\"\n",
    "\n",
    "for name, layer in zip(layer_names, network):\n",
    "    print(f\"\\n{name} layer:\")\n",
    "    for i, neuron in enumerate(layer):\n",
    "        weights = neuron['weights']\n",
    "        print(f\"Neuron[{i}] weights & bias: {weights.asnumpy().tolist()}\")"
   ]
  },
  {
   "cell_type": "markdown",
   "id": "eb43d54a",
   "metadata": {},
   "source": [
    "Running the example, you can see that the code prints out each layer one by one. You can see the hidden layer has one neuron with 2 input weights plus the bias. The output layer has 2 neurons, each with 1 weight plus the bias.\n",
    "\n",
    "Sample Output from Initializing a Network.\n",
    "\n",
    "Hidden layer:\n",
    "Neuron[0] weights & bias:[0.0416303447718782, 0.454492444728629, 0.834817218166915]\n",
    "\n",
    "Output layer:\n",
    "Neuron[0] weights & bias:[0.3359860301452, 0.565489403566136]\n",
    "Neuron[1] weights & bias:[0.00176691239174431, 0.18758951699996]\n",
    "\n",
    "Now that we know how to create and initialized a network, let's see how we can use it to calculate an output.\n",
    "\n",
    "## 15.2.2 Forward-Propagate\n",
    "\n",
    "We can calculate an output from a neural network by propagating an input signal through each layer until the output layer outputs its values. We call this forward-propagation. It is the technique we will need to generate predictions during training that will need to be corrected, and it is the method we will need after the network is trained to make predictions on new data. We can break forward-propagation down into three parts:\n",
    "\n",
    "1. Neuron Activation.\n",
    "2. Activation Function (Neuron Transfer).\n",
    "3. Forward-Propagation.\n",
    "\n",
    "### Neuron Activation\n",
    "\n",
    "The first step is to calculate the activation of one neuron given an input. The input could be a row from our training dataset, as in the case of the hidden layer. It may also be the outputs from each neuron in the hidden layer, in the case of the output layer. Neuron activation is calculated as the weighted sum of the inputs. Much like linear regression.\n",
    "\n",
    "$$\n",
    "\\text{activation} = \\text{bias} + \\sum_{i=1}^{n} \\text{weight}_i \\times \\text{input}_i\n",
    "$$\n",
    "\n",
    "Where `weight` is a network weight, `input` is an input value, `i` is the index of a weight or an input and `bias` is a special weight that has no input to multiply with (or you can think of the input as always being 1.0). Below is an implementation of this in a function named `activate()`. You can see that the function assumes that the bias is the last weight in the list of weights. This helps here and later to make the code easier to read.\n"
   ]
  },
  {
   "cell_type": "code",
   "execution_count": 28,
   "id": "3435627b",
   "metadata": {},
   "outputs": [],
   "source": [
    "def activate(weights, inputs):\n",
    "    bias = weights[-1]\n",
    "    weighted_sum = mx.nd.dot(weights[:-1], inputs)\n",
    "    return weighted_sum + bias\n",
    "\n",
    "sml.add_to_class(sml, 'activate', activate)"
   ]
  },
  {
   "cell_type": "markdown",
   "id": "efe21578",
   "metadata": {},
   "source": [
    "Now, let’s see how to use the neuron activation.\n",
    "\n",
    "### Activation Function (Neuron Transfer)\n",
    "\n",
    "Once a neuron is activated, we need to transfer the activation to see what the neuron output actually is. Different transfer functions can be used. It is traditional to use the sigmoid activation function, but you can also use the tanh (hyperbolic tangent) function to transfer outputs. More recently, the rectifier transfer function has been popular with large deep learning networks.\n",
    "\n",
    "The sigmoid activation function looks like an S shape: it’s also called the logistic function. It can take any input value and produce a number between 0 and 1 on an S-curve. It is also a function of which we can easily calculate the derivative (slope) that we will need later when backpropagating error. We can transfer an activation function using the sigmoid function as follows:\n",
    "\n",
    "$$\n",
    "\\text{output} = \\frac{1}{1 + e^{-\\text{activation}}}\n",
    "$$\n",
    "\n",
    "Where _e_ is the base of the natural logarithms (Euler’s number). Below is a function named `transfer()` that implements the sigmoid equation.\n"
   ]
  },
  {
   "cell_type": "code",
   "execution_count": 29,
   "id": "e9db8f3d",
   "metadata": {},
   "outputs": [],
   "source": [
    "def transfer(activation):\n",
    "    return 1.0 / (1.0 + mx.nd.exp(-activation))\n",
    "\n",
    "sml.add_to_class(sml, 'transfer', transfer)"
   ]
  },
  {
   "cell_type": "code",
   "execution_count": 30,
   "id": "10130561",
   "metadata": {},
   "outputs": [
    {
     "data": {
      "image/png": "[encoded data removed]",
      "text/plain": [
       "<Figure size 900x400 with 1 Axes>"
      ]
     },
     "metadata": {},
     "output_type": "display_data"
    }
   ],
   "source": [
    "def sigmoid(x):\n",
    "    return 1 / (1 + mx.np.exp(-x))\n",
    "\n",
    "X = mx.np.arange(-10, 10.1, 0.1)\n",
    "Y = sigmoid(X)\n",
    "\n",
    "# Plot\n",
    "plt.figure(figsize=(9, 4))\n",
    "plt.plot(X.asnumpy(), Y.asnumpy(), label='Sigmoid', color='purple')\n",
    "plt.title('Plot of Sigmoid function')\n",
    "plt.xlabel('X')\n",
    "plt.ylabel('Y')\n",
    "plt.grid(True)\n",
    "plt.legend()\n",
    "plt.tight_layout()\n",
    "plt.show()"
   ]
  },
  {
   "cell_type": "markdown",
   "id": "d6e1856a",
   "metadata": {},
   "source": [
    "Now that we have the pieces, let's see how they are used.\n",
    "\n",
    "### Forward-Propagation\n",
    "\n",
    "Forward-propagating an input is straightforward. We work through each layer of our network calculating the outputs for each neuron. All of the outputs from one layer become inputs to the neurons on the next layer. Below is a function named `forward_propagate()` that implements the forward-propagation for a row of data from our dataset with our neural network.\n",
    "\n",
    "You can see that a neuron’s output value is stored in the neuron with the name `output`. You can also see that we collect the outputs for a layer in an array named `new_inputs` that becomes the array inputs and is used as inputs for the following layer. The function returns the outputs from the last layer also called the output layer.\n",
    "\n",
    "Let’s put all of these pieces together and test out the forward-propagation of our network. We define our network inline with one hidden neuron that expects 2 input values and an output layer with two neurons.\n"
   ]
  },
  {
   "cell_type": "code",
   "execution_count": 31,
   "id": "69d005a6",
   "metadata": {},
   "outputs": [],
   "source": [
    "def forward_propagate_tensor(network_weights, row):\n",
    "    inputs = mx.nd.array(row)\n",
    "\n",
    "    for weights in network_weights:\n",
    "        inputs = mx.nd.concat(inputs, mx.nd.ones((1,)), dim=0)\n",
    "\n",
    "        activations = mx.nd.dot(weights, inputs)\n",
    "\n",
    "        inputs = SML.transfer(activations)\n",
    "\n",
    "    return inputs\n",
    "sml.add_to_class(sml, 'forward_propagate_tensor', forward_propagate_tensor)"
   ]
  },
  {
   "cell_type": "code",
   "execution_count": 32,
   "id": "901561f6",
   "metadata": {},
   "outputs": [
    {
     "name": "stdout",
     "output_type": "stream",
     "text": [
      "Tensorized forward output: [0.6629970073699951, 0.725316047668457]\n"
     ]
    }
   ],
   "source": [
    "network_weights = [\n",
    "    mx.nd.array([[0.13436424, 0.84743373, 0.76377462]]),\n",
    "    mx.nd.array([\n",
    "        [0.25506903, 0.49543509],\n",
    "        [0.44949106, 0.65159297]\n",
    "    ])\n",
    "]\n",
    "\n",
    "row = [1.0, 0.0]\n",
    "\n",
    "output = sml.forward_propagate_tensor(network_weights, row)\n",
    "\n",
    "print(\"Tensorized forward output:\", output.asnumpy().tolist())"
   ]
  },
  {
   "cell_type": "markdown",
   "id": "fa9ca61d",
   "metadata": {},
   "source": [
    "Running the example propagates the input pattern [1, 0] and produces an output value that is printed. Because the output layer has two neurons, we get a list of two numbers as output. The actual output values are just nonsense for now, but next, we will start to learn how to make the weights in the neurons more useful.\n",
    "\n",
    "[0.6629970129852887, 0.7253160725279748]  \n",
    "Sample Output from Forward-Propagate Input Through a Network.\n",
    "\n",
    "## 15.2.3 Backpropagate Error\n",
    "\n",
    "The backpropagation algorithm is named for the way in which weights are trained. Error is calculated between the expected outputs and the outputs forward-propagated from the network. These errors are then propagated backward through the network from the output layer to the hidden layer, assigning blame for the error and updating weights as they go. The math for backpropagating error is rooted in calculus, but we will remain high level in this section and focus on what is calculated and how rather than why the calculations take this particular form.\n",
    "\n",
    "This part is broken down into two sections:\n",
    "\n",
    "1. Transfer Derivative.  \n",
    "2. Error Backpropagation.\n",
    "\n",
    "### Transfer Derivative\n",
    "\n",
    "Given an output value from a neuron, we need to calculate its slope. We are using the sigmoid transfer function, the derivative of which can be calculated as follows:\n",
    "\n",
    "$$\n",
    "\\text{derivative} = \\text{output} \\times (1.0 - \\text{output})\n",
    "\\tag{15.3}\n",
    "$$\n",
    "\n",
    "Below is a function named `transfer_derivative()` that implements this equation.\n"
   ]
  },
  {
   "cell_type": "code",
   "execution_count": 33,
   "id": "314d45eb",
   "metadata": {},
   "outputs": [],
   "source": [
    "def transfer_derivative(output):\n",
    "    return output * (1.0 - output)\n",
    "sml.add_to_class(sml, 'transfer_derivative', transfer_derivative)"
   ]
  },
  {
   "cell_type": "markdown",
   "id": "e831c0bf",
   "metadata": {},
   "source": [
    "Now, let’s see how this can be used.\n",
    "\n",
    "### Error Backpropagation\n",
    "\n",
    "The first step is to calculate the error for each output neuron; this will give us our error signal (input) to propagate backwards through the network. The error for a given neuron can be calculated as follows:\n",
    "\n",
    "$$\n",
    "\\text{error} = (\\text{expected} - \\text{output}) \\times \\text{transfer\\_derivative(output)} \\tag{15.4}\n",
    "$$\n",
    "\n",
    "Where expected is the expected output value for the neuron, output is the output value for the neuron and transfer_derivative() calculates the slope of the neurons output value, as shown above. This error calculation is used for neurons in the output layer. The expected value is the class value itself. In the hidden layer, things are a little more complicated.\n",
    "\n",
    "The error signal for a neuron in the hidden layer is calculated as the weighted error of each neuron in the output layer. Think of the error traveling back along the weights of the output layer to the neurons in the hidden layer. The backpropagated error signal is accumulated and then used to determine the error for the neuron in the hidden layer, as follows:\n",
    "\n",
    "$$\n",
    "\\text{error} = \\left(\\sum_j \\text{weight}_{j} \\times \\text{error}_{j}\\right) \\times \\text{transfer\\_derivative(output)} \\tag{15.5}\n",
    "$$\n",
    "\n",
    "Where error_j is the error signal from the jth neuron in the output layer, weight_j is the weight that connects the kth neuron to the current neuron and output is the output for the current neuron. Below is a function named `backward_propagate_error()` that implements this procedure. You can see that the error signal calculated for each neuron is stored with the name `delta`.\n",
    "\n",
    "You can see that the layers of the network are iterated in reverse order, starting at the output and working backwards. This ensures that the neurons in the output layer have delta values calculated first that neurons in the hidden layer can use in the subsequent iteration. I chose the name delta to reflect the change the error implies on the neuron (e.g. the weight delta).\n",
    "\n",
    "You can see that the error signal for neurons in the hidden layer is accumulated from neurons in the output layer where the hidden neuron number j is also the index of the neurons weight in the output layer neuron[weights][j].\n"
   ]
  },
  {
   "cell_type": "code",
   "execution_count": null,
   "id": "d07999e6",
   "metadata": {},
   "outputs": [],
   "source": [
    "def backward_propagate_error_tensor(network_weights, activations, expected):\n",
    "    deltas = [None] * len(network_weights)\n",
    "\n",
    "    output = activations[-1]\n",
    "    error = expected - output\n",
    "    delta = error * sml.transfer_derivative(output)\n",
    "    deltas[-1] = delta\n",
    "\n",
    "    for i in reversed(range(len(network_weights) - 1)):\n",
    "        next_weights = network_weights[i + 1][:, :-1]\n",
    "        next_delta = deltas[i + 1]\n",
    "\n",
    "        error = mx.nd.dot(next_weights.T, next_delta)\n",
    "        delta = error * sml.transfer_derivative(activations[i + 1])\n",
    "        deltas[i] = delta\n",
    "\n",
    "    return deltas\n",
    "sml.add_to_class(sml, 'backward_propagate_error_tensor', backward_propagate_error_tensor)"
   ]
  },
  {
   "cell_type": "code",
   "execution_count": null,
   "id": "65a19cab",
   "metadata": {},
   "outputs": [
    {
     "name": "stdout",
     "output_type": "stream",
     "text": [
      "Layer 0 delta: [-0.0005345838144421577]\n",
      "Layer 1 delta: [-0.14618642628192902, 0.07717236876487732]\n"
     ]
    }
   ],
   "source": [
    "network_weights = [\n",
    "    mx.nd.array([[0.13436424, 0.84743374, 0.76377462]]),\n",
    "    mx.nd.array([\n",
    "        [0.25506903, 0.49543509],\n",
    "        [0.44949106, 0.65159297]\n",
    "    ])\n",
    "]\n",
    "\n",
    "activations = [\n",
    "    mx.nd.array([1.0, 0.0]),\n",
    "    mx.nd.array([0.71056688]),\n",
    "    mx.nd.array([0.62133597, 0.65736935])\n",
    "]\n",
    "\n",
    "expected = mx.nd.array([0.0, 1.0])\n",
    "\n",
    "deltas = sml.backward_propagate_error_tensor(network_weights, activations, expected)\n",
    "\n",
    "for i, delta in enumerate(deltas):\n",
    "    print(f\"Layer {i} delta:\", delta.asnumpy().tolist())"
   ]
  },
  {
   "cell_type": "markdown",
   "id": "c53f02ed",
   "metadata": {},
   "source": [
    "Running the example prints the network after the backpropagation of error is complete. You can see that error values are calculated and stored in the neurons for the output layer and the hidden layer.\n",
    "\n",
    "```json\n",
    "[{'output': 0.7105668883115941,\n",
    "  'weights': [0.13436424411240122, 0.8474337369372327, 0.763774618976614]},\n",
    " {'delta': -0.0005348048046610517}]\n",
    "\n",
    "[{'output': 0.6218359615555266,\n",
    "  'weights': [0.2550690257394217, 0.49543508709194095],\n",
    "  'delta': -0.14619064683582808},\n",
    " {'output': 0.6573693455986976,\n",
    "  'weights': [0.4494910647887381, 0.651592972722763],\n",
    "  'delta': 0.0771723774346327}]\n",
    "```\n",
    "\n",
    "Sample Output from Backpropagate Error Through a Network.\n",
    "\n",
    "\n",
    "## 15.2.4 Train Network\n",
    "\n",
    "The network is trained using stochastic gradient descent. Gradient descent was introduced and described in Section 8.1.2. The procedure involves multiple iterations of exposing a training dataset to the network and for each row of data forward-propagating the inputs, backpropagating the error and updating the network weights. This part is broken down into two sections:\n",
    "\n",
    "1. Update Weights  \n",
    "2. Train Network\n",
    "\n",
    "### Update Weights\n",
    "\n",
    "Once errors are calculated for each neuron in the network via the backpropagation method above, they can be used to update weights. Network weights are updated as follows:\n",
    "\n",
    "$$\n",
    "\\text{weight} = \\text{weight} + \\text{learning rate} \\times \\text{error} \\times \\text{input}\n",
    "\\tag{15.6}\n",
    "$$\n",
    "\n",
    "Where `weight` is a given weight, `learning rate` is a parameter that you must specify, `error` is the error calculated by the backpropagation procedure for the neuron and `input` is the input value that caused the error. The same procedure can be used for updating the bias weight, except there is no input term, or input is the fixed value of 1.0.\n",
    "\n",
    "Learning rate controls how much to change the weight to correct for the error. For example, a value of 0.1 will update the weight 10% of the amount that it possibly could be updated. Small learning rates are preferred that cause slower learning over a large number of training iterations. This increases the likelihood of the network finding a good set of weights across all layers rather than the fastest set of weights that minimize error (called premature convergence).\n",
    "\n",
    "Below is a function named `update_weights()` that updates the weights for a network given an input row of data, a learning rate and assume that a forward and backward propagation have already been performed. Remember that the input for the output layer is a collection of outputs from the hidden layer."
   ]
  },
  {
   "cell_type": "code",
   "execution_count": null,
   "id": "90e6f415",
   "metadata": {},
   "outputs": [],
   "source": [
    "def update_weights_tensor(network, row, learning_rate):\n",
    "    inputs = mx.nd.array(row[:-1])\n",
    "\n",
    "    for i, layer in enumerate(network):\n",
    "        if i != 0:\n",
    "            inputs = mx.nd.array([neuron['output'] for neuron in network[i - 1]])\n",
    "\n",
    "        for neuron in layer:\n",
    "            weights = neuron['weights']\n",
    "            delta = neuron['delta']\n",
    "            \n",
    "            weight_update = learning_rate * delta * inputs\n",
    "            weights[:-1] = weights[:-1] + weight_update\n",
    "\n",
    "            weights[-1] = weights[-1] + learning_rate * delta\n",
    "\n",
    "            neuron['weights'] = weights\n",
    "\n",
    "sml.add_to_class(sml, 'update_weights_tensor', update_weights_tensor)"
   ]
  },
  {
   "cell_type": "code",
   "execution_count": 49,
   "id": "0e9493ea",
   "metadata": {},
   "outputs": [],
   "source": [
    "def train_network(network, train_data, learning_rate, n_epochs, n_outputs, test_data=None):\n",
    "    train_losses = []\n",
    "    test_losses = []\n",
    "\n",
    "    for epoch in range(1, n_epochs + 1):\n",
    "        sum_error = 0.0\n",
    "\n",
    "        for row in train_data:\n",
    "            activations = sml.forward_propagate_tensor(network, mx.nd.array(row[:-1]))\n",
    "            outputs = activations[-1]\n",
    "\n",
    "            expected = mx.nd.zeros(n_outputs)\n",
    "            expected[int(row[-1])] = 1.0\n",
    "\n",
    "            sum_error += mx.nd.sum(mx.nd.square(expected - outputs)).asscalar()\n",
    "\n",
    "            deltas = sml.backward_propagate_error_tensor(\n",
    "                [neuron['weights'] for layer in network for neuron in layer],\n",
    "                activations,\n",
    "                expected\n",
    "            )\n",
    "            sml.update_weights_tensor(network, row, learning_rate)\n",
    "\n",
    "        if epoch % 10 == 0 or epoch == 1:\n",
    "            print(f\"Epoch={epoch}, lrate={learning_rate:.3f}, error={sum_error:.3f}\")\n",
    "\n",
    "        train_losses.append(sum_error)\n",
    "\n",
    "        if test_data:\n",
    "            sum_error = 0.0\n",
    "            for row in test_data:\n",
    "                activations = SML.forward_propagate_tensor(network, mx.nd.array(row[:-1]))\n",
    "                outputs = activations[-1]\n",
    "                expected = mx.nd.zeros(n_outputs)\n",
    "                expected[int(row[-1])] = 1.0\n",
    "                sum_error += mx.nd.sum(mx.nd.square(expected - outputs)).asscalar()\n",
    "            test_losses.append(sum_error)\n",
    "\n",
    "    return network, train_losses, test_losses\n",
    "sml.add_to_class(sml, 'train_network', train_network)"
   ]
  },
  {
   "cell_type": "code",
   "execution_count": 56,
   "id": "e4ef7839",
   "metadata": {},
   "outputs": [
    {
     "name": "stdout",
     "output_type": "stream",
     "text": [
      "X1              X2              Y\n",
      "2.781083600     2.550537003     0\n",
      "1.465489372     2.362125076     0\n",
      "3.396561688     4.400293529     0\n",
      "1.388070190     1.850220317     0\n",
      "3.064072320     3.005305973     0\n",
      "7.627531214     2.759262235     1\n",
      "5.332441248     2.088626775     1\n",
      "6.922596716     1.771063670     1\n",
      "8.675418651     -0.242068655    1\n",
      "7.673756466     3.508563011     1\n"
     ]
    }
   ],
   "source": [
    "dataset = [\n",
    "    [2.7810836, 2.550537003, 0],\n",
    "    [1.465489372, 2.362125076, 0],\n",
    "    [3.396561688, 4.400293529, 0],\n",
    "    [1.38807019, 1.850220317, 0],\n",
    "    [3.06407232, 3.005305973, 0],\n",
    "    [7.627531214, 2.759262235, 1],\n",
    "    [5.332441248, 2.088626775, 1],\n",
    "    [6.922596716, 1.77106367, 1],\n",
    "    [8.675418651, -0.242068655, 1],\n",
    "    [7.673756466, 3.508563011, 1]\n",
    "]\n",
    "\n",
    "print(f\"{'X1':<15} {'X2':<15} {'Y'}\")\n",
    "\n",
    "for row in dataset:\n",
    "    print(f\"{row[0]:<15.9f} {row[1]:<15.9f} {int(row[2])}\")\n"
   ]
  },
  {
   "cell_type": "code",
   "execution_count": 57,
   "id": "f749ffc4",
   "metadata": {},
   "outputs": [
    {
     "data": {
      "image/png": "[encoded data removed]",
      "text/plain": [
       "<Figure size 900x400 with 1 Axes>"
      ]
     },
     "metadata": {},
     "output_type": "display_data"
    }
   ],
   "source": [
    "class0 = [row for row in dataset if row[2] == 0]\n",
    "class1 = [row for row in dataset if row[2] == 1]\n",
    "\n",
    "x0 = [row[0] for row in class0]\n",
    "y0 = [row[1] for row in class0]\n",
    "\n",
    "x1 = [row[0] for row in class1]\n",
    "y1 = [row[1] for row in class1]\n",
    "\n",
    "plt.figure(figsize=(9, 4))\n",
    "plt.scatter(x0, y0, color='blue', marker='D', label='Class 0')\n",
    "plt.scatter(x1, y1, color='red', marker='s', label='Class 1')\n",
    "\n",
    "plt.title('Plot of the Small Contrived Dataset')\n",
    "plt.xlabel('X1')\n",
    "plt.ylabel('X2')\n",
    "plt.legend()\n",
    "plt.grid(True)\n",
    "plt.tight_layout()\n",
    "plt.show()"
   ]
  },
  {
   "cell_type": "markdown",
   "id": "0d3511bd",
   "metadata": {},
   "source": [
    "Below is the complete example. We will use 2 neurons in the hidden layer. It is a binary classification problem (2 classes) so there will be two neurons in the output layer. The network will be trained for 20 epochs with a learning rate of 0.5, which is high because we are training for so few iterations.\n"
   ]
  },
  {
   "cell_type": "code",
   "execution_count": 59,
   "id": "9bbf79a3",
   "metadata": {},
   "outputs": [
    {
     "ename": "AssertionError",
     "evalue": "Argument lhs must have NDArray type, but got [{'weights': \n[0.82589036 0.83770555 0.894476  ]\n<NDArray 3 @cpu(0)>}, {'weights': \n[0.03315495 0.5011699  0.78476477]\n<NDArray 3 @cpu(0)>}]",
     "output_type": "error",
     "traceback": [
      "\u001b[1;31m---------------------------------------------------------------------------\u001b[0m",
      "\u001b[1;31mAssertionError\u001b[0m                            Traceback (most recent call last)",
      "Cell \u001b[1;32mIn[59], line 6\u001b[0m\n\u001b[0;32m      2\u001b[0m n_outputs \u001b[38;5;241m=\u001b[39m \u001b[38;5;28mlen\u001b[39m(\u001b[38;5;28mset\u001b[39m(row[\u001b[38;5;241m-\u001b[39m\u001b[38;5;241m1\u001b[39m] \u001b[38;5;28;01mfor\u001b[39;00m row \u001b[38;5;129;01min\u001b[39;00m dataset))\n\u001b[0;32m      4\u001b[0m network \u001b[38;5;241m=\u001b[39m sml\u001b[38;5;241m.\u001b[39minitialize_network(n_inputs, \u001b[38;5;241m2\u001b[39m, n_outputs)\n\u001b[1;32m----> 6\u001b[0m network, train_losses, _ \u001b[38;5;241m=\u001b[39m \u001b[43msml\u001b[49m\u001b[38;5;241;43m.\u001b[39;49m\u001b[43mtrain_network\u001b[49m\u001b[43m(\u001b[49m\n\u001b[0;32m      7\u001b[0m \u001b[43m    \u001b[49m\u001b[43mnetwork\u001b[49m\u001b[43m,\u001b[49m\n\u001b[0;32m      8\u001b[0m \u001b[43m    \u001b[49m\u001b[43mtrain_data\u001b[49m\u001b[38;5;241;43m=\u001b[39;49m\u001b[43mdataset\u001b[49m\u001b[43m,\u001b[49m\u001b[43m  \u001b[49m\u001b[38;5;66;43;03m# <-- así, sin mx.nd.array()\u001b[39;49;00m\n\u001b[0;32m      9\u001b[0m \u001b[43m    \u001b[49m\u001b[43mlearning_rate\u001b[49m\u001b[38;5;241;43m=\u001b[39;49m\u001b[38;5;241;43m0.5\u001b[39;49m\u001b[43m,\u001b[49m\n\u001b[0;32m     10\u001b[0m \u001b[43m    \u001b[49m\u001b[43mn_epochs\u001b[49m\u001b[38;5;241;43m=\u001b[39;49m\u001b[38;5;241;43m20\u001b[39;49m\u001b[43m,\u001b[49m\n\u001b[0;32m     11\u001b[0m \u001b[43m    \u001b[49m\u001b[43mn_outputs\u001b[49m\u001b[38;5;241;43m=\u001b[39;49m\u001b[43mn_outputs\u001b[49m\n\u001b[0;32m     12\u001b[0m \u001b[43m)\u001b[49m\n\u001b[0;32m     14\u001b[0m \u001b[38;5;28;01mfor\u001b[39;00m i, layer \u001b[38;5;129;01min\u001b[39;00m \u001b[38;5;28menumerate\u001b[39m(network):\n\u001b[0;32m     15\u001b[0m     \u001b[38;5;28mprint\u001b[39m(\u001b[38;5;124mf\u001b[39m\u001b[38;5;124m\"\u001b[39m\u001b[38;5;124mLayer \u001b[39m\u001b[38;5;132;01m{\u001b[39;00mi\u001b[38;5;132;01m}\u001b[39;00m\u001b[38;5;124m:\u001b[39m\u001b[38;5;124m\"\u001b[39m)\n",
      "Cell \u001b[1;32mIn[49], line 9\u001b[0m, in \u001b[0;36mtrain_network\u001b[1;34m(network, train_data, learning_rate, n_epochs, n_outputs, test_data)\u001b[0m\n\u001b[0;32m      6\u001b[0m sum_error \u001b[38;5;241m=\u001b[39m \u001b[38;5;241m0.0\u001b[39m\n\u001b[0;32m      8\u001b[0m \u001b[38;5;28;01mfor\u001b[39;00m row \u001b[38;5;129;01min\u001b[39;00m train_data:\n\u001b[1;32m----> 9\u001b[0m     activations \u001b[38;5;241m=\u001b[39m \u001b[43msml\u001b[49m\u001b[38;5;241;43m.\u001b[39;49m\u001b[43mforward_propagate_tensor\u001b[49m\u001b[43m(\u001b[49m\u001b[43mnetwork\u001b[49m\u001b[43m,\u001b[49m\u001b[43m \u001b[49m\u001b[43mmx\u001b[49m\u001b[38;5;241;43m.\u001b[39;49m\u001b[43mnd\u001b[49m\u001b[38;5;241;43m.\u001b[39;49m\u001b[43marray\u001b[49m\u001b[43m(\u001b[49m\u001b[43mrow\u001b[49m\u001b[43m[\u001b[49m\u001b[43m:\u001b[49m\u001b[38;5;241;43m-\u001b[39;49m\u001b[38;5;241;43m1\u001b[39;49m\u001b[43m]\u001b[49m\u001b[43m)\u001b[49m\u001b[43m)\u001b[49m\n\u001b[0;32m     10\u001b[0m     outputs \u001b[38;5;241m=\u001b[39m activations[\u001b[38;5;241m-\u001b[39m\u001b[38;5;241m1\u001b[39m]\n\u001b[0;32m     12\u001b[0m     expected \u001b[38;5;241m=\u001b[39m mx\u001b[38;5;241m.\u001b[39mnd\u001b[38;5;241m.\u001b[39mzeros(n_outputs)\n",
      "Cell \u001b[1;32mIn[31], line 7\u001b[0m, in \u001b[0;36mforward_propagate_tensor\u001b[1;34m(network_weights, row)\u001b[0m\n\u001b[0;32m      4\u001b[0m \u001b[38;5;28;01mfor\u001b[39;00m weights \u001b[38;5;129;01min\u001b[39;00m network_weights:\n\u001b[0;32m      5\u001b[0m     inputs \u001b[38;5;241m=\u001b[39m mx\u001b[38;5;241m.\u001b[39mnd\u001b[38;5;241m.\u001b[39mconcat(inputs, mx\u001b[38;5;241m.\u001b[39mnd\u001b[38;5;241m.\u001b[39mones((\u001b[38;5;241m1\u001b[39m,)), dim\u001b[38;5;241m=\u001b[39m\u001b[38;5;241m0\u001b[39m)\n\u001b[1;32m----> 7\u001b[0m     activations \u001b[38;5;241m=\u001b[39m \u001b[43mmx\u001b[49m\u001b[38;5;241;43m.\u001b[39;49m\u001b[43mnd\u001b[49m\u001b[38;5;241;43m.\u001b[39;49m\u001b[43mdot\u001b[49m\u001b[43m(\u001b[49m\u001b[43mweights\u001b[49m\u001b[43m,\u001b[49m\u001b[43m \u001b[49m\u001b[43minputs\u001b[49m\u001b[43m)\u001b[49m\n\u001b[0;32m      9\u001b[0m     inputs \u001b[38;5;241m=\u001b[39m SML\u001b[38;5;241m.\u001b[39mtransfer(activations)\n\u001b[0;32m     11\u001b[0m \u001b[38;5;28;01mreturn\u001b[39;00m inputs\n",
      "File \u001b[1;32m<string>:76\u001b[0m, in \u001b[0;36mdot\u001b[1;34m(lhs, rhs, transpose_a, transpose_b, forward_stype, out, name, **kwargs)\u001b[0m\n",
      "\u001b[1;31mAssertionError\u001b[0m: Argument lhs must have NDArray type, but got [{'weights': \n[0.82589036 0.83770555 0.894476  ]\n<NDArray 3 @cpu(0)>}, {'weights': \n[0.03315495 0.5011699  0.78476477]\n<NDArray 3 @cpu(0)>}]"
     ]
    }
   ],
   "source": [
    "n_inputs = len(dataset[0]) - 1\n",
    "n_outputs = len(set(row[-1] for row in dataset))\n",
    "\n",
    "network = sml.initialize_network(n_inputs, 2, n_outputs)\n",
    "\n",
    "network, train_losses, _ = sml.train_network(\n",
    "    network,\n",
    "    train_data=dataset,  # <-- así, sin mx.nd.array()\n",
    "    learning_rate=0.5,\n",
    "    n_epochs=20,\n",
    "    n_outputs=n_outputs\n",
    ")\n",
    "\n",
    "for i, layer in enumerate(network):\n",
    "    print(f\"Layer {i}:\")\n",
    "    for neuron in layer:\n",
    "        print({k: v if not isinstance(v, mx.nd.NDArray) else v.asnumpy().tolist()\n",
    "               for k, v in neuron.items()})"
   ]
  }
 ],
 "metadata": {
  "kernelspec": {
   "display_name": "mxnet-env",
   "language": "python",
   "name": "python3"
  },
  "language_info": {
   "codemirror_mode": {
    "name": "ipython",
    "version": 3
   },
   "file_extension": ".py",
   "mimetype": "text/x-python",
   "name": "python",
   "nbconvert_exporter": "python",
   "pygments_lexer": "ipython3",
   "version": "3.9.13"
  }
 },
 "nbformat": 4,
 "nbformat_minor": 5
}
