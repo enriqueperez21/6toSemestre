{
 "cells": [
  {
   "cell_type": "code",
   "execution_count": null,
   "id": "c6893e25",
   "metadata": {},
   "outputs": [],
   "source": [
    "sub accuracy_metric{\n",
    "    my ($self, $actual, $predicted) = @_;\n",
    "    my $cmp = $predicted->astype($actual->dtype) == $actual;\n",
    "    return sprintf '%0.2f',\n",
    "                       (100 * $cmp->astype($actual->dtype)->sum / $actual->len)->asscalar;\n",
    "}\n",
    "sml->add_to_class('accuracy_metric', \\&{'accuracy_metric'});"
   ]
  },
  {
   "cell_type": "code",
   "execution_count": null,
   "id": "855e1f60",
   "metadata": {},
   "outputs": [],
   "source": [
    "\n",
    "\n",
    "\n",
    "\n",
    "sub confusion_matrix{\n",
    "    my ($self, $actual, $predicted) = @_;\n",
    "    \n",
    "    #Step 1: One-hot encode the actual and predicted arrays\n",
    "    my $num_classes       = $actual->max->asscalar + 1;\n",
    "    my $actual_one_hot    = mx->nd->one_hot($actual, $num_classes);\n",
    "    my $predicted_one_hot = mx->nd->one_hot($predicted, $num_classes);\n",
    "                                            \n",
    "    # Step 2: Compute confusion matrix\n",
    "    # Matrix multiplication: (actual_one_hot^T) * predicted_one_hot\n",
    "    return mx->nd->arange(stop=>$num_classes),\n",
    "           mx->nd->dot($actual_one_hot->T, $predicted_one_hot); \n",
    "}\n",
    "\n",
    "sml->add_to_class('confusion_matrix', \\&{'confusion_matrix'});"
   ]
  },
  {
   "cell_type": "code",
   "execution_count": null,
   "id": "f51a7533",
   "metadata": {},
   "outputs": [],
   "source": [
    "# Function To Pretty Print a Confusion Matrix.\n",
    "# pretty print a confusion matrix\n",
    "sub print_confusion_matrix{\n",
    "    my ($self, $unique, $matrix) = @_;\n",
    "    printf \"A/P%s\", $unique->aspdl;\n",
    "    printf \"%s\", mx->nd->concat($unique->expand_dims(axis=>1), $matrix, dim=>1)->aspdl;\n",
    "}\n",
    "\n",
    "sml->add_to_class('printf_confusion_matrix', \\&{'print_confusion_matrix'});"
   ]
  },
  {
   "cell_type": "code",
   "execution_count": null,
   "id": "2de7bf94",
   "metadata": {},
   "outputs": [],
   "source": [
    "# Function To Calculate Mean Absolute Error.\n",
    "# Calculate mean absolute error\n",
    "sub mae_metric{\n",
    "    my ($self, $actual, $predicted) = @_;\n",
    "    return sprintf '%0.2f',\n",
    "                    (mx->nd->abs($actual - $predicted)->sum / $actual->len)->asscalar;       \n",
    "}\n",
    "\n",
    "sml->add_to_class('mae_metric', \\&{'mae_metric'});"
   ]
  },
  {
   "cell_type": "code",
   "execution_count": null,
   "id": "330e57f8",
   "metadata": {},
   "outputs": [],
   "source": [
    "# Defined in Section 4.2.4 Root Mean Squared Error\n",
    "# Function To Calculate Root Mean Squared Error.\n",
    "# Calculate root mean squared error\n",
    "sub rmse_metric{\n",
    "    my($self, $actual, $predicted) = @_;\n",
    "    my $mean_error = ($actual - $predicted)->square()->sum / $actual->len;\n",
    "    return sprintf '%0.3f', $mean_error->sqrt()->asscalar;\n",
    "}\n",
    "\n",
    "sml->add_to_class('rmse_metric', \\&{'rmse_metric'});"
   ]
  },
  {
   "cell_type": "code",
   "execution_count": null,
   "id": "52d2d688",
   "metadata": {},
   "outputs": [],
   "source": [
    "# Function to calculate the ROC metrics by using one-hot encoding and dot product\n",
    "sub perf_metrics{\n",
    "    my ($self, $actual, $predicted_prob, $threshold) = @_;\n",
    "        \n",
    "    my ($tp, $fp, $tn, $fn, $tpr, $fpr) = (0, 0, 0, 0);\n",
    "        \n",
    "    #Step 1: Threshold to create binary predictions\n",
    "    my $predicted = $predicted_prob >= $threshold;\n",
    "\n",
    "    #Step 2: Convert actua and predicted to one-hot encoded matrices\n",
    "    my $num_classes         = $actual->max->asscalar + 1;\n",
    "    my $actual_one_hot      = mx->nd->one_hot($actual, $num_classes); #Shape [n, $num_cl]\n",
    "    my $predicted_one_hot   = mx->nd->one_hot($predicted, $num_classes); #Shape [n, $num_cl]\n",
    "    \n",
    "    #Step 3: Compute confusion matrix using dot product\n",
    "    my $confusion_matrix    = mx->nd->dot($actual_one_hot->T, $predicted_one_hot);\n",
    "    \n",
    "    #Extract counts from the confusion matrix\n",
    "    $tp = $confusion_matrix->at(1)->at(1); # True Positives\n",
    "    $fn = $confusion_matrix->at(1)->at(0); # False Negatives\n",
    "    $fp = $confusion_matrix->at(0)->at(1); # False Positives\n",
    "    $tn = $confusion_matrix->at(0)->at(0); # True Negatives\n",
    "\n",
    "    #Step 4: Compute TPR and FPR\n",
    "    $tpr = $tp / ($tp + $fn); # True Positive Rate\n",
    "    $fpr = $fp / ($fp + $tn); # False Positive Rate\n",
    "\n",
    "    return sprintf('%0.2f', $fpr->asscalar), sprintf('%0.2f', $tpr->asscalar);\n",
    "}\n",
    "\n",
    "sml->add_to_class('perf_metrics', \\&{'perf_metrics'});"
   ]
  }
 ],
 "metadata": {
  "language_info": {
   "name": "python"
  }
 },
 "nbformat": 4,
 "nbformat_minor": 5
}
