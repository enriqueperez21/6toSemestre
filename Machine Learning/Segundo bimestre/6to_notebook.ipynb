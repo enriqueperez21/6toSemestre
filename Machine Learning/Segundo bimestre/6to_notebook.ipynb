{
 "cells": [
  {
   "cell_type": "code",
   "execution_count": null,
   "id": "02a8e046",
   "metadata": {},
   "outputs": [],
   "source": [
    "sub evaluate_algorithm_train_test_split{\n",
    "    my ($self, $dataset, $algorithm, %args) = ((splice @_, 0, 3), split=>0.6, metric=>undef, @_);\n",
    "\n",
    "    my ($train, $test) = sml->train_test_split($dataset, split=>args{split});\n",
    "    my ($actual, $predicted, $score);\n",
    "    my $test_set = $test->copy();\n",
    "    # (my slice = $test_set->slice('X', -1)) .= mx->nd->full([$test_set->len, 1], 'NaN);\n",
    "\n",
    "    $predicted = $algorithm->('sml', $train,, $test_set, @_);\n",
    "    $actual    = $test->slice_axis(axis=>1, begin=>-1, end=>$test->shape->[1])->squeeze();\n",
    "\n",
    "    #Regression : Classification\n",
    "    if (defined $args{metric}){\n",
    "        if ($args{metric} =~ /accuracy/i){\n",
    "            $score = sml->accuracy_metric($actual, $predicted);\n",
    "        }elsif($args{metric} =~ /rmse/i){\n",
    "            $score = sml->rmse_metric($actual, $predicted);\n",
    "        }\n",
    "    }else{\n",
    "        if(mx->nd->sum($actual->trunc() - $actual) ->asscalar != 0){\n",
    "            $score = sml->rmse_metric($actual, $predicted);\n",
    "        }else{\n",
    "            $score = sml->accuracy_metric($actual, $predicted);\n",
    "        }\n",
    "    }\n",
    "\n",
    "    return wantarray ? ($score, $train, $test, $actual, $predicted) : $score;\n",
    "}"
   ]
  }
 ],
 "metadata": {
  "language_info": {
   "name": "python"
  }
 },
 "nbformat": 4,
 "nbformat_minor": 5
}
