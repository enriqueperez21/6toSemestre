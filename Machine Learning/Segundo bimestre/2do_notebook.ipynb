{
 "cells": [
  {
   "cell_type": "code",
   "execution_count": null,
   "id": "12cd7f5b",
   "metadata": {},
   "outputs": [],
   "source": [
    "use strict;\n",
    "use warnings;\n",
    "use Data::Dump qw(dump);\n",
    "use list::Util qw(zip min max sum);\n",
    "use sml; $Statiscal Machine Learning Library\n",
    "use AI::MXNet qw(mx);"
   ]
  },
  {
   "cell_type": "code",
   "execution_count": null,
   "id": "028fbd63",
   "metadata": {},
   "outputs": [],
   "source": [
    "#Function To Calculate the Min and Max Values For a Dataset.\n",
    "# Find the min and max values for each column\n",
    "sub dataset_minmax{\n",
    "    my ($self, $dataset) = @_;\n",
    "    return mx->nd->stack($dataset->min(axis=>0), $dataset->max(axis=>0), axis=>1);\n",
    "}\n",
    "\n",
    "sml->add_to_class('dataset_minmax', \\&{'dataset_minmax'});"
   ]
  },
  {
   "cell_type": "markdown",
   "id": "ebc4c284",
   "metadata": {},
   "source": [
    "*sml::dataset_minmax\n",
    "\n",
    "Subroutine datset_minmax redefined at reply input line 3.\n",
    "\n",
    "Subroutine sml::dataset_minmax redefined at /usr/local/lib/perl15/site_perl/5.32.1/x86_64-linux/sml.pm line 32"
   ]
  },
  {
   "cell_type": "code",
   "execution_count": null,
   "id": "1227d518",
   "metadata": {},
   "outputs": [],
   "source": [
    "#Function To Normalize a Dataset.\n",
    "#Rescale dataset columns to the range 0-1\n",
    "sub normalize_dataset{\n",
    "    my ($self, $dataset, $minmax) = @_;\n",
    "        \n",
    "    #Extract min and max vectors\n",
    "    my $min = $minmax->slice_axis(axis=>1, begin=>0, end=>1)->T;\n",
    "    my $max = $minmax->slice_axis(axis=>1, begin=>1, end=>2)->T;\n",
    "\n",
    "    $dataset->slice( [0, $dataset->shape[0] -1], [0, $dataset->shape->[1] -1]) .=\n",
    "                ($dataset - $min) / ($max - $min);\n",
    "}\n",
    "\n",
    "sml->add_to_class('normalize_dataset', \\&{'normalize_dataset'});"
   ]
  },
  {
   "cell_type": "markdown",
   "id": "80902826",
   "metadata": {},
   "source": []
  },
  {
   "cell_type": "code",
   "execution_count": null,
   "id": "4494e7b1",
   "metadata": {},
   "outputs": [],
   "source": [
    "#Function To Calculate Means For Each Column in a Dataset.\n",
    "#Calculate column means\n",
    "sub column_means{\n",
    "    my ($self, $dataset) = @_;\n",
    "    return mx->nd->mean($dataset, axis=>0);\n",
    "};\n",
    "\n",
    "sml->add_to_class('column_means', \\&{'column_means'});"
   ]
  },
  {
   "cell_type": "markdown",
   "id": "a6e4c072",
   "metadata": {},
   "source": [
    "*sml::column_means\n",
    "\n",
    "Subroutine column_means redefined at reply input line 3.\n",
    "\n",
    "Subroutine sml::column_means redefined at /usr/local/lib/perl15/site_perl/5.32.1/x86_64-linux/sml.pm line 32"
   ]
  },
  {
   "cell_type": "code",
   "execution_count": null,
   "id": "ddd612d1",
   "metadata": {},
   "outputs": [],
   "source": [
    "# Function To Calculate Standard Deviations For Each Column in a Dataset.\n",
    "# Calculate column standard deviations\n",
    "sub column_stdevs{\n",
    "    my ($self, $dataset, $means) = @_;\n",
    "    return mx->nd->sqrt(($dataset - $means)->power(2)->sum(axis=>0) / ($dataset->len -1));\n",
    "}\n",
    "\n",
    "sml->add_to_class('dolumn_stdevs', \\&{'column_stdevs'});"
   ]
  },
  {
   "cell_type": "markdown",
   "id": "64e624c0",
   "metadata": {},
   "source": [
    "*sml::dolumn_stdevs\n",
    "\n",
    "Subroutine sml::column_stdevs redefined at /usr/local/lib/perl15/site_perl/5.32.1/x86_64-linux/sml.pm line 32"
   ]
  },
  {
   "cell_type": "code",
   "execution_count": null,
   "id": "262e0a81",
   "metadata": {},
   "outputs": [],
   "source": [
    "# Function To Standardize a Dataset.\n",
    "# Standardize dataset\n",
    "sub standardize_dataset{\n",
    "    my ($self, $dataset, $means, $stdevs) = @_;\n",
    "    $dataset->slice([0, $dataset->shape->[0] -1], [0, $dataset->shape->[1] -1]) .=\n",
    "    ($dataset - $means) / $stdevs;\n",
    "} \n",
    "\n",
    "sml->add_to_class('standardize_dataset', \\&{'standardize_dataset'});"
   ]
  },
  {
   "cell_type": "markdown",
   "id": "1021734d",
   "metadata": {},
   "source": [
    "*sml::standardize_dataset\n",
    "\n",
    "Subroutine sml::standardize_dataset redefined at /usr/local/lib/perl15/site_perl/5.32.1/x86_64-linux/sml.pm line 22"
   ]
  }
 ],
 "metadata": {
  "language_info": {
   "name": "python"
  }
 },
 "nbformat": 4,
 "nbformat_minor": 5
}
