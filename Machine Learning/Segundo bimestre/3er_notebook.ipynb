{
 "cells": [
  {
   "cell_type": "code",
   "execution_count": null,
   "id": "d924dd4f",
   "metadata": {},
   "outputs": [],
   "source": [
    "#Defined in Section 3.2.1 Train and test Split\n",
    "#Function To Split a Dataset\n",
    "#Split a dataset into a train and test set\n",
    "sub train_test_split{\n",
    "    my ($self, $dataset, %args) = (splice (@_, 0, 2), split =>0.6, @_);\n",
    "\n",
    "    my $train_size = int($args{split} * $dataset->len);\n",
    "    my $idx        = mx->nd->arange(stop => $dataset->len)->shuffle;\n",
    "    my $train_idx  = $idx->slice(begin=>0, end=>$train_size);\n",
    "    my $test_idx   = $idx->slice(begin=> $train_size, end=>$dataset->len);\n",
    "    my $train      = mx->nd->take($dataset, $train_idx);\n",
    "    my $test       = mx->nd->take($dataset, $test_idx);\n",
    "    \n",
    "    return $train, $test;\n",
    "}\n",
    "\n",
    "sml->add_to_class('train_test_split', \\&{'train_test_split'});"
   ]
  },
  {
   "cell_type": "code",
   "execution_count": null,
   "id": "de23991d",
   "metadata": {},
   "outputs": [],
   "source": [
    "\n",
    "\n",
    "sub cross_validation_split{\n",
    "    my ($self, $dataset, %args) = (splice (@_, 0, 2), n_folds=>10, @_);\n",
    "\n",
    "    my @dataset_split;\n",
    "    my $fold_size   = int($dataset->len / $args{n_folds});\n",
    "    my $idx         = mx->nd->arange(stop=>$dataset->len)->shuffle;\n",
    "    for my $i (0 .. $args{n_folds} -1){\n",
    "        my $fold_idx = $idx->slice(begin=>$i * $fold_size, end=>($i +1) * $fold_size);\n",
    "        push @dataset_split, mx->nd->take($dataset, $fold_idx);\n",
    "    }\n",
    "\n",
    "    return mx->nd->stack(@dataset_split, axis=>0);\n",
    "}\n",
    "\n",
    "sml->add_to_class('cross_validation_split', \\&{'cross_validation_split'});"
   ]
  },
  {
   "cell_type": "code",
   "execution_count": null,
   "id": "9261de9d",
   "metadata": {},
   "outputs": [],
   "source": [
    "sub count_labels{\n",
    "    my(self, $dataset) = @_;\n",
    "    my $Y = $dataset->slice_axis(axis=>1, begin=>-1, end=>$dataset->shape->[-1])\n",
    "                      ->squeeze(axis=>1);\n",
    "    my $num_classes = $Y->max->asscalar + 1;\n",
    "    return mx->nd->one_hot($Y, $num_classes)->sum(axis=>0);\n",
    "}\n",
    "\n",
    "sml->add_to_class('count_labels', \\&{'count_labels'});"
   ]
  }
 ],
 "metadata": {
  "language_info": {
   "name": "python"
  }
 },
 "nbformat": 4,
 "nbformat_minor": 5
}
