{
 "cells": [
  {
   "cell_type": "code",
   "execution_count": null,
   "id": "a3cf82aa",
   "metadata": {},
   "outputs": [],
   "source": [
    "use sml;\n",
    "IPerl->load_plugin('')"
   ]
  },
  {
   "cell_type": "code",
   "execution_count": null,
   "id": "2f9a3873",
   "metadata": {},
   "outputs": [],
   "source": [
    "sub predict{\n",
    "    my ($self, $row, $coef) = @_;\n",
    "        \n",
    "    my $num_features = scalar(@row - 1); #Excluding the last column (target)\n",
    "    #Compute prediction: yhat = bias + sum(w_i * x_i)\n",
    "    my $yhat = $coef->[0]; # bias term\n",
    "    for my $i (0 .. $num_features -1){\n",
    "        $yhat += $coef->[$i + 1] * $row->[$i];\n",
    "    }\n",
    "    return $yhat;\n",
    "}\n",
    "\n",
    "sml->add_to_class('predict', \\&{'predict'});"
   ]
  }
 ],
 "metadata": {
  "language_info": {
   "name": "python"
  }
 },
 "nbformat": 4,
 "nbformat_minor": 5
}
